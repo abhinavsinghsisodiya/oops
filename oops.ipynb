{
  "nbformat": 4,
  "nbformat_minor": 0,
  "metadata": {
    "colab": {
      "provenance": []
    },
    "kernelspec": {
      "name": "python3",
      "display_name": "Python 3"
    },
    "language_info": {
      "name": "python"
    }
  },
  "cells": [
    {
      "cell_type": "markdown",
      "source": [],
      "metadata": {
        "id": "gmWddVrASDym"
      }
    },
    {
      "cell_type": "markdown",
      "source": [
        "# oops question\n"
      ],
      "metadata": {
        "id": "91uPiv6DSDgE"
      }
    },
    {
      "cell_type": "markdown",
      "source": [],
      "metadata": {
        "id": "6MSVhXCFSDOi"
      }
    },
    {
      "cell_type": "markdown",
      "source": [],
      "metadata": {
        "id": "5TbMInqsSR3u"
      }
    },
    {
      "cell_type": "markdown",
      "source": [
        "1.  What is Object-Oriented Programming (OOP)+\n",
        "    -;Object-Oriented Programming (OOP) is a programming paradigm that organizes software design around objects, which are units containing both data (attributes) and code (methods)\n",
        "\n",
        "\n",
        "\n",
        "\n",
        "2.  What is a class in OOP+\n",
        "    -;In Object-Oriented Programming (OOP), a class is a blueprint or template for creating objects, defining their properties (attributes) and behaviors (methods). Think of it as a recipe for creating a specific type of object.\n",
        "\n",
        "\n",
        "\n",
        "\n",
        "\n",
        " 3.  What is an object in OOP+\n",
        "    -;In object-oriented programming (OOP), an object is a fundamental unit that encapsulates data (attributes) and behavior (methods) representing a real-world entity or concept, and is an instance of a class.   \n",
        "\n",
        "\n",
        "\n",
        "\n",
        " 4. What is the difference between abstraction and encapsulation+  \n",
        "    -;Abstraction is the method of hiding the unwanted information. Whereas encapsulation is a method to hide the data in a single entity or unit along with a method to protect information from outside.\n",
        "\n",
        "\n",
        "\n",
        "\n",
        "5. What are dunder methods in Python+\n",
        "   -;In Python, \"dunder\" methods, also known as magic or special methods\n",
        "      In Python, \"dunder\" methods, also known as magic or special methods, are methods with names prefixed and suffixed by double underscores (e.g., __init__, __str__) that allow you to define custom behavior for built-in operations and operators.\n",
        "\n",
        "\n",
        "\n",
        "\n",
        "\n",
        "  6.  Explain the concept of inheritance in OOP   \n",
        "     -; In object-oriented programming (OOP), inheritance is a mechanism that allows a class to inherit properties and behaviors from another class. It is a fundamental concept in OOP that promotes code reuse and establishes relationships between classes.\n",
        "\n",
        "\n",
        "\n",
        "  7.  What is polymorphism in OOP+\n",
        "      -;In Object-Oriented Programming (OOP), polymorphism, meaning \"many forms,\" allows objects of different classes to be treated as objects of a common superclass or interface, enabling flexibility and extensibility in code design.\n",
        "\n",
        "\n",
        "\n",
        "  8.   How is encapsulation achieved in Python+\n",
        "        -;Encapsulation is achieved by declaring a class's data members and methods as either private or protected. But in Python, we do not have keywords like public, private, and protected, as in the case of Java. Instead, we achieve this by using single and double underscores\n",
        "\n",
        "\n",
        "\n",
        "\n",
        "9.     What is a constructor in Python+\n",
        "        -;In Python, a constructor is a special method called when an object is created. Its purpose is to assign values to the data members within the class when an object is initialized. The name of the constructor method is always __init__.\n",
        "\n",
        "\n",
        "\n",
        "  10.   What are class and static methods in Python\n",
        "        -;Class methods can access and modify class-level attributes. They have access to the class object and can modify class variables or create new instances of the class. Static methods, on the other hand, do not have access to the class object and cannot modify any class-level attributes.\n",
        "\n",
        "\n",
        "\n",
        "  11.  What is method overloading in Python\n",
        "      -;In Python, while the term \"method overloading\" is often used, it's not implemented in the way it is in languages like Java or C++. Instead, Python achieves similar functionality using **default arguments, variable-length arguments (*args and kwargs), and conditionals within a function.\n",
        "\n",
        "\n",
        "  12.  What is method overriding in OOP\n",
        "      -;In Object-Oriented Programming (OOP), method overriding allows a subclass to provide a specific implementation of a method that is already defined in its superclass, enabling customized behavior while maintaining the same method signature.\n",
        "\n",
        "      \n",
        "\n",
        "      13.  What is a property decorator in Python\n",
        "          -;In Python, a decorator is a function that takes another function as input, adds functionality to it, and returns a new function with the modified behavior, without changing the original function's code\n",
        "\n",
        "\n",
        "\n",
        "      14. Why is polymorphism important in OOP\n",
        "         -;Polymorphism is crucial in Object-Oriented Programming (OOP) because it enables code reusability, flexibility, and extensibility by allowing different objects to respond to the same message in their own unique ways, promoting a more adaptable and maintainable software design.\n",
        "\n",
        "\n",
        "    15. What is an abstract class in Python+\n",
        "       -;In Python, an abstract class is a blueprint for other classes, designed to be subclassed but not instantiated directly, containing one or more abstract methods (methods without implementation) that must be implemented by its subclasses.\n",
        "\n",
        "\n",
        "\n",
        "    16.  What are the advantages of OOP\n",
        "       -; Object-Oriented Programming (OOP) offers several advantages, including improved code organization, reusability through inheritance, flexibility with polymorphism, and simplification of complex systems through abstraction, leading to modular, maintainable, and scalable software.\n",
        "\n",
        "\n",
        "\n",
        "       17. H What is the difference between a class variable and an instance variable\n",
        "         -;n object-oriented programming, a class variable (or static variable) is shared across all instances of a class, while an instance variable (or non-static variable) is unique to each instance.\n",
        "          Class variables are defined within the class but outside of any class methods. Instance variables are defined within class methods, typically the constructor. Changes made to the class variable affect all instances. Changes made to the instance variable does not affect all instances.\n",
        "\n",
        "\n",
        "\n",
        "\n",
        "\n",
        "          18. What is multiple inheritance in Python\n",
        "            -;In Python, multiple inheritance occurs when a class (the child class) inherits from more than one parent class, allowing it to inherit attributes and methods from all of its parent classes.\n",
        "         \n",
        "\n",
        "\n",
        "\n",
        "         19.  Explain the purpose of ‘’__str__’ and ‘__repr__’ ‘ methods in Python\n",
        "\n",
        "           -;In Python, __str__ provides a user-friendly, informal string representation of an object, while __repr__ offers a developer-focused, unambiguous, and often machine-readable representation, useful for debugging and object inspection.\n",
        "\n",
        "\n",
        "\n",
        "      20.  What is the significance of the ‘super()’ function in Python+\n",
        "         -;In Python, the super() function allows a subclass to access and call methods of its parent (superclass) class, facilitating code reuse and enabling subclasses to extend and customize the functionality inherited from the parent class.\n",
        "\n",
        "\n",
        "\n",
        "         21. What is the significance of the __del__ method in Python\n",
        "            -;\n",
        "\n",
        "            The __del__ method in Python is a powerful tool for managing resource cleanup\n",
        "             when objects are destroyed. It allows you to define specific actions that should be taken when an object is garbage collected, such as closing files, releasing locks, or closing network connections\n",
        "\n",
        "\n",
        "             22. What is the difference between @staticmethod and @classmethod in Python\n",
        "              -; In Python, @classmethod defines a method that receives the class itself as its first argument (cls), allowing access to class attributes, while @staticmethod defines a method that doesn't receive any implicit arguments and is essentially a regular function within a class.\n",
        "\n",
        "\n",
        "\n",
        "        23.   How does polymorphism work in Python with inheritance\n",
        "             -; In Python, polymorphism with inheritance works through method overriding, where a child class redefines a method inherited from its parent class, allowing the same method name to have different behaviors based on the object's class.\n",
        "\n",
        "\n",
        "             24.  What is method chaining in Python OOP+\n",
        "               -; In Python's Object-Oriented Programming (OOP), method chaining allows you to call multiple methods sequentially on the same object, in a single line of code, by having each method return the object itself (or a derived version of it).\n",
        "\n",
        "\n",
        "               25. What is the purpose of the __call__ method in Python\n",
        "                 -; __call__() is to turn your instances into callable objects. In other words, its purpose is to create objects that you can call as you would call a regular function. Most Python classes don't implement this method. Your custom classes will have it only if you need to use your instances as functions.\n",
        "\n",
        "\n",
        "\n",
        "                 "
      ],
      "metadata": {
        "id": "jZ2hoOw1STMx"
      }
    },
    {
      "cell_type": "code",
      "execution_count": null,
      "metadata": {
        "id": "X9DlR4XGRewp"
      },
      "outputs": [],
      "source": []
    },
    {
      "cell_type": "markdown",
      "source": [],
      "metadata": {
        "id": "hXE6EyUDKCfw"
      }
    },
    {
      "cell_type": "markdown",
      "source": [
        "# practical questions\n"
      ],
      "metadata": {
        "id": "LecxKmS4KTbe"
      }
    },
    {
      "cell_type": "markdown",
      "source": [
        "1.  Create a parent class Animal with a method speak() that prints a generic message. Create a child class Dog\n",
        "that overrides the speak() method to print \"Bark!\""
      ],
      "metadata": {
        "id": "fVjBfCkIKiyN"
      }
    },
    {
      "cell_type": "code",
      "source": [
        "class Animal:\n",
        "    def speak(self):\n",
        "        print(\"Animal makes a sound\")\n",
        "\n",
        "class Dog(Animal):\n",
        "    def speak(self):\n",
        "        print(\"Bark!\")\n"
      ],
      "metadata": {
        "id": "4agTEIG7KW03"
      },
      "execution_count": null,
      "outputs": []
    },
    {
      "cell_type": "markdown",
      "source": [],
      "metadata": {
        "id": "LJRvNelrSCK_"
      }
    },
    {
      "cell_type": "markdown",
      "source": [
        "2.  Write a program to create an abstract class Shape with a method area(). Derive classes Circle and Rectangle\n",
        "from it and implement the area() method in both"
      ],
      "metadata": {
        "id": "gHBHn09AKDU3"
      }
    },
    {
      "cell_type": "code",
      "source": [
        "# Abstract class Shape\n",
        "from abc import ABC, abstractmethod\n",
        "import math\n",
        "\n",
        "class Shape(ABC):\n",
        "    @abstractmethod\n",
        "    def area(self):\n",
        "        pass\n",
        "\n",
        "# Class Circle\n",
        "class Circle(Shape):\n",
        "    def __init__(self, radius):\n",
        "        self.radius = radius\n",
        "\n",
        "    def area(self):\n",
        "        return math.pi * (self.radius ** 2)\n",
        "\n",
        "# Class Rectangle\n",
        "class Rectangle(Shape):\n",
        "    def __init__(self, width, height):\n",
        "        self.width = width\n",
        "        self.height = height\n",
        "\n",
        "    def area(self):\n",
        "        return self.width * self.height\n"
      ],
      "metadata": {
        "id": "-i1FU4svLwTu"
      },
      "execution_count": null,
      "outputs": []
    },
    {
      "cell_type": "markdown",
      "source": [],
      "metadata": {
        "id": "roGRzpWyMEQL"
      }
    },
    {
      "cell_type": "markdown",
      "source": [
        "3.  Implement a multi-level inheritance scenario where a class Vehicle has an attribute type. Derive a class Car\n",
        "and further derive a class ElectricCar that adds a battery attribute"
      ],
      "metadata": {
        "id": "S0Lt_XIsMFaL"
      }
    },
    {
      "cell_type": "code",
      "source": [
        "# Vehicle Class\n",
        "class Vehicle:\n",
        "    def __init__(self, vehicle_type):\n",
        "        self.vehicle_type = vehicle_type\n",
        "\n",
        "# Car Class\n",
        "class Car(Vehicle):\n",
        "    def __init__(self, vehicle_type, brand):\n",
        "        super().__init__(vehicle_type)\n",
        "        self.brand = brand\n",
        "\n",
        "# ElectricCar Class\n",
        "class ElectricCar(Car):\n",
        "    def __init__(self, vehicle_type, brand, battery_capacity):\n",
        "        super().__init__(vehicle_type, brand)\n",
        "        self.battery_capacity = battery_capacity\n"
      ],
      "metadata": {
        "id": "FPPPZjhtMN13"
      },
      "execution_count": null,
      "outputs": []
    },
    {
      "cell_type": "markdown",
      "source": [],
      "metadata": {
        "id": "4s4HG26nMcay"
      }
    },
    {
      "cell_type": "markdown",
      "source": [
        "4.  Demonstrate polymorphism by creating a base class Bird with a method fly(). Create two derived classes\n",
        "Sparrow and Penguin that override the fly() method."
      ],
      "metadata": {
        "id": "oZiWwHFgMc6N"
      }
    },
    {
      "cell_type": "code",
      "source": [
        "class Bird:\n",
        "    def fly(self):\n",
        "        raise NotImplementedError(\"Subclasses must implement this method\")\n",
        "\n",
        "class Sparrow(Bird):\n",
        "    def fly(self):\n",
        "        return \"Sparrow flies high in the sky.\"\n",
        "\n",
        "class Penguin(Bird):\n",
        "    def fly(self):\n",
        "        return \"Penguin cannot fly, but it swims well.\"\n",
        "\n",
        "# Example usage\n",
        "birds = [Sparrow(), Penguin()]\n",
        "for bird in birds:\n",
        "    print(bird.fly())\n"
      ],
      "metadata": {
        "colab": {
          "base_uri": "https://localhost:8080/"
        },
        "id": "bM_H-7X9Mkav",
        "outputId": "b83daffc-0329-448f-84b3-e2c0c842138e"
      },
      "execution_count": null,
      "outputs": [
        {
          "output_type": "stream",
          "name": "stdout",
          "text": [
            "Sparrow flies high in the sky.\n",
            "Penguin cannot fly, but it swims well.\n"
          ]
        }
      ]
    },
    {
      "cell_type": "markdown",
      "source": [],
      "metadata": {
        "id": "kQ7fO1kwM1iO"
      }
    },
    {
      "cell_type": "markdown",
      "source": [
        "5. Write a program to demonstrate encapsulation by creating a class BankAccount with private attributes\n",
        "balance and methods to deposit, withdraw, and check balance"
      ],
      "metadata": {
        "id": "tSDmRwsVM2CW"
      }
    },
    {
      "cell_type": "code",
      "source": [
        "class BankAccount:\n",
        "    def __init__(self):\n",
        "        self.__balance = 0.0\n",
        "\n",
        "    def deposit(self, amount):\n",
        "        if amount > 0:\n",
        "            self.__balance += amount\n",
        "            return True\n",
        "        return False\n",
        "\n",
        "    def withdraw(self, amount):\n",
        "        if 0 < amount <= self.__balance:\n",
        "            self.__balance -= amount\n",
        "            return True\n",
        "        return False\n",
        "\n",
        "    def check_balance(self):\n",
        "        return self.__balance\n"
      ],
      "metadata": {
        "id": "I7sb-FrVM_XP"
      },
      "execution_count": null,
      "outputs": []
    },
    {
      "cell_type": "markdown",
      "source": [],
      "metadata": {
        "id": "uJEcPWYbNSJ1"
      }
    },
    {
      "cell_type": "markdown",
      "source": [
        "6. Demonstrate runtime polymorphism using a method play() in a base class Instrument. Derive classes Guitar\n",
        "and Piano that implement their own version of play()"
      ],
      "metadata": {
        "id": "6ouvUUa8NStN"
      }
    },
    {
      "cell_type": "code",
      "source": [
        "class Instrument:\n",
        "    def play(self):\n",
        "        pass\n",
        "\n",
        "class Guitar(Instrument):\n",
        "    def play(self):\n",
        "        return \"Strumming the guitar!\"\n",
        "\n",
        "class Piano(Instrument):\n",
        "    def play(self):\n",
        "        return \"Playing the piano!\"\n",
        "\n",
        "# Demonstration of runtime polymorphism\n",
        "def perform(instrument):\n",
        "    print(instrument.play())\n",
        "\n",
        "guitar = Guitar()\n",
        "piano = Piano()\n",
        "\n",
        "perform(guitar)  # Output: Strumming the guitar!\n",
        "perform(piano)   # Output: Playing the piano!\n"
      ],
      "metadata": {
        "colab": {
          "base_uri": "https://localhost:8080/"
        },
        "id": "PNcIIMutNX6s",
        "outputId": "bfc97096-fe35-4f10-a53a-985a2d29bb18"
      },
      "execution_count": null,
      "outputs": [
        {
          "output_type": "stream",
          "name": "stdout",
          "text": [
            "Strumming the guitar!\n",
            "Playing the piano!\n"
          ]
        }
      ]
    },
    {
      "cell_type": "markdown",
      "source": [],
      "metadata": {
        "id": "F_zls25VNuR9"
      }
    },
    {
      "cell_type": "markdown",
      "source": [
        "7. Create a class MathOperations with a class method add_numbers() to add two numbers and a static\n",
        "method subtract_numbers() to subtract two numbers"
      ],
      "metadata": {
        "id": "JnO2Pcs4Nu0v"
      }
    },
    {
      "cell_type": "code",
      "source": [
        "# MathOperations\n",
        "class MathOperations:\n",
        "\n",
        "    @classmethod\n",
        "    def add_numbers(cls, a, b):\n",
        "        return a + b\n",
        "\n",
        "    @staticmethod\n",
        "    def subtract_numbers(a, b):\n",
        "        return a - b\n"
      ],
      "metadata": {
        "id": "SHHhHkJrNzmg"
      },
      "execution_count": null,
      "outputs": []
    },
    {
      "cell_type": "markdown",
      "source": [],
      "metadata": {
        "id": "CGDvuIF_N-g9"
      }
    },
    {
      "cell_type": "markdown",
      "source": [
        "8. Implement a class Person with a class method to count the total number of persons created"
      ],
      "metadata": {
        "id": "nJe8lMSLN_Dm"
      }
    },
    {
      "cell_type": "code",
      "source": [
        "# Person Class Implementation\n",
        "\n",
        "class Person:\n",
        "    total_persons = 0\n",
        "\n",
        "    def __init__(self, name):\n",
        "        self.name = name\n",
        "        Person.total_persons += 1\n",
        "\n",
        "    @classmethod\n",
        "    def count_persons(cls):\n",
        "        return cls.total_persons\n"
      ],
      "metadata": {
        "id": "wR67eKUMOGrt"
      },
      "execution_count": null,
      "outputs": []
    },
    {
      "cell_type": "markdown",
      "source": [],
      "metadata": {
        "id": "_NZ3QnVOOSUl"
      }
    },
    {
      "cell_type": "markdown",
      "source": [
        "9. . Write a class Fraction with attributes numerator and denominator. Override the str method to display the\n",
        "fraction as \"numerator/denominator\"."
      ],
      "metadata": {
        "id": "Vke1ogkTOS61"
      }
    },
    {
      "cell_type": "code",
      "source": [
        "class Fraction:\n",
        "    def __init__(self, numerator, denominator):\n",
        "        self.numerator = numerator\n",
        "        self.denominator = denominator\n",
        "\n",
        "    def __str__(self):\n",
        "        return f\"{self.numerator}/{self.denominator}\"\n"
      ],
      "metadata": {
        "id": "prAd513OOYHy"
      },
      "execution_count": null,
      "outputs": []
    },
    {
      "cell_type": "markdown",
      "source": [],
      "metadata": {
        "id": "xl4TAXR4OkT1"
      }
    },
    {
      "cell_type": "markdown",
      "source": [
        "10. Demonstrate operator overloading by creating a class Vector and overriding the add method to add two\n",
        "vectors"
      ],
      "metadata": {
        "id": "L6S5MKFCOktX"
      }
    },
    {
      "cell_type": "code",
      "source": [
        "class Vector:\n",
        "    def __init__(self, x, y):\n",
        "        self.x = x\n",
        "        self.y = y\n",
        "\n",
        "    def __add__(self, other):\n",
        "        return Vector(self.x + other.x, self.y + other.y)\n",
        "\n",
        "    def __repr__(self):\n",
        "        return f\"Vector({self.x}, {self.y})\"\n",
        "\n",
        "# Example usage\n",
        "v1 = Vector(2, 3)\n",
        "v2 = Vector(4, 5)\n",
        "result = v1 + v2\n",
        "print(result)  # Output: Vector(6, 8)\n"
      ],
      "metadata": {
        "colab": {
          "base_uri": "https://localhost:8080/"
        },
        "id": "aZRt8XmnOrsS",
        "outputId": "a47e83c3-fe55-46bf-a75f-40ff65856b4f"
      },
      "execution_count": null,
      "outputs": [
        {
          "output_type": "stream",
          "name": "stdout",
          "text": [
            "Vector(6, 8)\n"
          ]
        }
      ]
    },
    {
      "cell_type": "markdown",
      "source": [],
      "metadata": {
        "id": "3iXQQB4WO5Wl"
      }
    },
    {
      "cell_type": "markdown",
      "source": [
        "11. Create a class Person with attributes name and age. Add a method greet() that prints \"Hello, my name is\n",
        "{name} and I am {age} years old."
      ],
      "metadata": {
        "id": "O-DYD-sRO56l"
      }
    },
    {
      "cell_type": "code",
      "source": [
        "class Person:\n",
        "    def __init__(self, name, age):\n",
        "        self.name = name\n",
        "        self.age = age\n",
        "\n",
        "    def greet(self):\n",
        "        print(f\"Hello, my name is {self.name} and I am {self.age} years old.\")\n"
      ],
      "metadata": {
        "id": "-GqfHlaUPFDt"
      },
      "execution_count": null,
      "outputs": []
    },
    {
      "cell_type": "markdown",
      "source": [],
      "metadata": {
        "id": "VcBcahUmPH9M"
      }
    },
    {
      "cell_type": "markdown",
      "source": [
        "12.  Implement a class Student with attributes name and grades. Create a method average_grade() to compute\n",
        "the average of the grades"
      ],
      "metadata": {
        "id": "MoLqID8DPInF"
      }
    },
    {
      "cell_type": "code",
      "source": [
        "class Student:\n",
        "    def __init__(self, name, grades):\n",
        "        self.name = name\n",
        "        self.grades = grades\n",
        "\n",
        "    def average_grade(self):\n",
        "        return sum(self.grades) / len(self.grades) if self.grades else 0\n"
      ],
      "metadata": {
        "id": "8ywdHpCoPRXl"
      },
      "execution_count": null,
      "outputs": []
    },
    {
      "cell_type": "markdown",
      "source": [],
      "metadata": {
        "id": "mimL80x5PhUJ"
      }
    },
    {
      "cell_type": "markdown",
      "source": [
        "13.  Create a class Rectangle with methods set_dimensions() to set the dimensions and area() to calculate the\n",
        "area"
      ],
      "metadata": {
        "id": "iBqs76NJPg-8"
      }
    },
    {
      "cell_type": "code",
      "source": [
        "class Rectangle:\n",
        "    def __init__(self):\n",
        "        self.width = 0\n",
        "        self.height = 0\n",
        "\n",
        "    def set_dimensions(self, width, height):\n",
        "        self.width = width\n",
        "        self.height = height\n",
        "\n",
        "    def area(self):\n",
        "        return self.width * self.height\n"
      ],
      "metadata": {
        "id": "Nsg7t799Pgkz"
      },
      "execution_count": null,
      "outputs": []
    },
    {
      "cell_type": "markdown",
      "source": [],
      "metadata": {
        "id": "-FR8iBCtP-sM"
      }
    },
    {
      "cell_type": "markdown",
      "source": [
        "14. Create a class Employee with a method calculate_salary() that computes the salary based on hours worked\n",
        "and hourly rate. Create a derived class Manager that adds a bonus to the salary"
      ],
      "metadata": {
        "id": "csBYgBVQP_Ns"
      }
    },
    {
      "cell_type": "code",
      "source": [
        "class Employee:\n",
        "    def __init__(self, hours_worked, hourly_rate):\n",
        "        self.hours_worked = hours_worked\n",
        "        self.hourly_rate = hourly_rate\n",
        "\n",
        "    def calculate_salary(self):\n",
        "        return self.hours_worked * self.hourly_rate\n",
        "\n",
        "\n",
        "class Manager(Employee):\n",
        "    def __init__(self, hours_worked, hourly_rate, bonus):\n",
        "        super().__init__(hours_worked, hourly_rate)\n",
        "        self.bonus = bonus\n",
        "\n",
        "    def calculate_salary(self):\n",
        "        base_salary = super().calculate_salary()\n",
        "        return base_salary + self.bonus\n"
      ],
      "metadata": {
        "id": "6on5Jat6U662"
      },
      "execution_count": 24,
      "outputs": []
    },
    {
      "cell_type": "markdown",
      "source": [],
      "metadata": {
        "id": "1L-oU8LXVMwd"
      }
    },
    {
      "cell_type": "markdown",
      "source": [
        "15. Create a class Product with attributes name, price, and quantity. Implement a method total_price() that\n",
        "calculates the total price of the product"
      ],
      "metadata": {
        "id": "j_VqhIToVNVk"
      }
    },
    {
      "cell_type": "code",
      "source": [
        "class Product:\n",
        "    def __init__(self, name, price, quantity):\n",
        "        self.name = name\n",
        "        self.price = price\n",
        "        self.quantity = quantity\n",
        "\n",
        "    def total_price(self):\n",
        "        return self.price * self.quantity\n"
      ],
      "metadata": {
        "id": "IkYrtPqYVR9O"
      },
      "execution_count": 25,
      "outputs": []
    },
    {
      "cell_type": "markdown",
      "source": [],
      "metadata": {
        "id": "-FXsSJZ_VZ4L"
      }
    },
    {
      "cell_type": "markdown",
      "source": [
        "16.  Create a class Animal with an abstract method sound(). Create two derived classes Cow and Sheep that\n",
        "implement the sound() method"
      ],
      "metadata": {
        "id": "64e5vhAFVaW1"
      }
    },
    {
      "cell_type": "code",
      "source": [
        "from abc import ABC, abstractmethod\n",
        "\n",
        "class Animal(ABC):\n",
        "    @abstractmethod\n",
        "    def sound(self):\n",
        "        pass\n",
        "\n",
        "class Cow(Animal):\n",
        "    def sound(self):\n",
        "        return \"Moo\"\n",
        "\n",
        "class Sheep(Animal):\n",
        "    def sound(self):\n",
        "        return \"Baa\"\n"
      ],
      "metadata": {
        "id": "GTSQtGqQVj5T"
      },
      "execution_count": 26,
      "outputs": []
    },
    {
      "cell_type": "markdown",
      "source": [],
      "metadata": {
        "id": "rqwHN1U0VuFT"
      }
    },
    {
      "cell_type": "markdown",
      "source": [
        "17.Create a class Book with attributes title, author, and year_published. Add a method get_book_info() that\n",
        "returns a formatted string with the book's details."
      ],
      "metadata": {
        "id": "C0cm-XcPVuaa"
      }
    },
    {
      "cell_type": "code",
      "source": [
        "class Book:\n",
        "    def __init__(self, title, author, year_published):\n",
        "        self.title = title\n",
        "        self.author = author\n",
        "        self.year_published = year_published\n",
        "\n",
        "    def get_book_info(self):\n",
        "        return f\"'{self.title}' by {self.author}, published in {self.year_published}.\"\n"
      ],
      "metadata": {
        "id": "ZKOxZUVNV3E9"
      },
      "execution_count": 27,
      "outputs": []
    },
    {
      "cell_type": "markdown",
      "source": [],
      "metadata": {
        "id": "qyS7ZrITWB3y"
      }
    },
    {
      "cell_type": "markdown",
      "source": [
        "18. Create a class House with attributes address and price. Create a derived class Mansion that adds an\n",
        "attribute number_of_rooms"
      ],
      "metadata": {
        "id": "k8ACVhOjWC6C"
      }
    },
    {
      "cell_type": "code",
      "source": [
        "class House:\n",
        "    def __init__(self, address, price):\n",
        "        self.address = address\n",
        "        self.price = price\n",
        "\n",
        "class Mansion(House):\n",
        "    def __init__(self, address, price, number_of_rooms):\n",
        "        super().__init__(address, price)\n",
        "        self.number_of_rooms = number_of_rooms\n"
      ],
      "metadata": {
        "id": "EG_RpvpqWHxN"
      },
      "execution_count": 28,
      "outputs": []
    }
  ]
}